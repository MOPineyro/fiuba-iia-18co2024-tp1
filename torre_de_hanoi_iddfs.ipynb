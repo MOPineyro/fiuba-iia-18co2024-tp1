{
 "cells": [
  {
   "cell_type": "markdown",
   "metadata": {},
   "source": [
    "# Torre de Hanoi - Búsqueda en Profundidad Iterativa\n",
    "\n",
    "Este notebook resuelve el problema de la Torre de Hanoi utilizando el algoritmo de Búsqueda en Profundidad Iterativa (IDDFS)."
   ]
  },
  {
   "cell_type": "code",
   "execution_count": 59,
   "metadata": {},
   "outputs": [],
   "source": [
    "## Setup\n",
    "import time\n",
    "import statistics\n",
    "import psutil\n",
    "import os"
   ]
  },
  {
   "cell_type": "markdown",
   "metadata": {},
   "source": [
    "## 1. Introducción\n",
    "\n",
    "El problema de la Torre de Hanoi consiste en mover una pila de discos de una clavija a otra, siguiendo estas reglas:\n",
    "1. Solo se puede mover un disco a la vez.\n",
    "2. Un disco más grande no puede colocarse sobre uno más pequeño.\n",
    "3. Solo se puede mover el disco superior de una pila.\n",
    "\n",
    "La Búsqueda en Profundidad Iterativa (IDDFS) es un algoritmo de búsqueda que combina la eficiencia de espacio de la búsqueda en profundidad con la completitud de la búsqueda en anchura."
   ]
  },
  {
   "cell_type": "code",
   "execution_count": 60,
   "metadata": {},
   "outputs": [
    {
     "name": "stdout",
     "output_type": "stream",
     "text": [
      "Solución encontrada en 15 movimientos:\n",
      "Movimiento 1: [[4, 3, 2, 1], [], []] -> [[4, 3, 2], [1], []]\n",
      "Movimiento 2: [[4, 3, 2], [1], []] -> [[4, 3], [1], [2]]\n",
      "Movimiento 3: [[4, 3], [1], [2]] -> [[4, 3], [], [2, 1]]\n",
      "Movimiento 4: [[4, 3], [], [2, 1]] -> [[4], [3], [2, 1]]\n",
      "Movimiento 5: [[4], [3], [2, 1]] -> [[4, 1], [3], [2]]\n",
      "Movimiento 6: [[4, 1], [3], [2]] -> [[4, 1], [3, 2], []]\n",
      "Movimiento 7: [[4, 1], [3, 2], []] -> [[4], [3, 2, 1], []]\n",
      "Movimiento 8: [[4], [3, 2, 1], []] -> [[], [3, 2, 1], [4]]\n",
      "Movimiento 9: [[], [3, 2, 1], [4]] -> [[], [3, 2], [4, 1]]\n",
      "Movimiento 10: [[], [3, 2], [4, 1]] -> [[2], [3], [4, 1]]\n",
      "Movimiento 11: [[2], [3], [4, 1]] -> [[2, 1], [3], [4]]\n",
      "Movimiento 12: [[2, 1], [3], [4]] -> [[2, 1], [], [4, 3]]\n",
      "Movimiento 13: [[2, 1], [], [4, 3]] -> [[2], [1], [4, 3]]\n",
      "Movimiento 14: [[2], [1], [4, 3]] -> [[], [1], [4, 3, 2]]\n",
      "Movimiento 15: [[], [1], [4, 3, 2]] -> [[], [], [4, 3, 2, 1]]\n"
     ]
    }
   ],
   "source": [
    "class Estado:\n",
    "    def __init__(self, pegs):\n",
    "        self.pegs = pegs\n",
    "\n",
    "    def __eq__(self, other):\n",
    "        return self.pegs == other.pegs\n",
    "\n",
    "    def __hash__(self):\n",
    "        return hash(tuple(tuple(peg) for peg in self.pegs))\n",
    "\n",
    "    def __str__(self):\n",
    "        return str(self.pegs)\n",
    "\n",
    "def mover_disco(estado, origen, destino):\n",
    "    nuevo_estado = [list(peg) for peg in estado.pegs]\n",
    "    disco = nuevo_estado[origen].pop()\n",
    "    nuevo_estado[destino].append(disco)\n",
    "    return Estado(nuevo_estado)\n",
    "\n",
    "def es_movimiento_valido(estado, origen, destino):\n",
    "    if not estado.pegs[origen]:\n",
    "        return False\n",
    "    if estado.pegs[destino] and estado.pegs[origen][-1] > estado.pegs[destino][-1]:\n",
    "        return False\n",
    "    return True\n",
    "\n",
    "def obtener_sucesores(estado):\n",
    "    sucesores = []\n",
    "    for origen in range(3):\n",
    "        for destino in range(3):\n",
    "            if origen != destino and es_movimiento_valido(estado, origen, destino):\n",
    "                sucesores.append(mover_disco(estado, origen, destino))\n",
    "    return sucesores\n",
    "\n",
    "def es_objetivo(estado, num_discos):\n",
    "    return len(estado.pegs[2]) == num_discos\n",
    "\n",
    "def iddfs(estado_inicial, num_discos):\n",
    "    max_limite_profundidad = 2 ** (num_discos + 2)\n",
    "    for limite_profundidad in range(1, max_limite_profundidad):\n",
    "        resultado = dfs_limitado(estado_inicial, num_discos, limite_profundidad)\n",
    "        if resultado is not None:\n",
    "            return resultado\n",
    "    return None\n",
    "\n",
    "def dfs_limitado(estado, num_discos, limite_profundidad, profundidad=0, visitados=None):\n",
    "    if visitados is None:\n",
    "        visitados = set()\n",
    "\n",
    "    if profundidad >= limite_profundidad:\n",
    "        return None\n",
    "\n",
    "    if estado in visitados:\n",
    "        return None\n",
    "\n",
    "    if es_objetivo(estado, num_discos):\n",
    "        return []\n",
    "\n",
    "    visitados.add(estado)\n",
    "\n",
    "    for sucesor in obtener_sucesores(estado):\n",
    "        resultado = dfs_limitado(sucesor, num_discos, limite_profundidad, profundidad + 1, visitados)\n",
    "        if resultado is not None:\n",
    "            return [(estado, sucesor)] + resultado\n",
    "        \n",
    "    visitados.remove(estado)\n",
    "    return None\n",
    "\n",
    "def resolver_torre_hanoi(num_discos):\n",
    "    estado_inicial = Estado([[i for i in range(num_discos, 0, -1)], [], []])\n",
    "    solucion = iddfs(estado_inicial, num_discos)\n",
    "    return solucion\n",
    "\n",
    "num_discos = 4\n",
    "solucion = resolver_torre_hanoi(num_discos)\n",
    "\n",
    "if solucion:\n",
    "    print(f\"Solución encontrada en {len(solucion)} movimientos:\")\n",
    "    for i, (estado, siguiente_estado) in enumerate(solucion, 1):\n",
    "        print(f\"Movimiento {i}: {estado} -> {siguiente_estado}\")\n",
    "else:\n",
    "    print(\"No se encontró solución.\")"
   ]
  },
  {
   "cell_type": "markdown",
   "metadata": {},
   "source": [
    "## 2. PEAS del problema\n",
    "\n",
    "- **Rendimiento (Performance)**: Minimizar el número de movimientos para resolver el problema.\n",
    "- **Entorno (Environment)**: Las tres clavijas y los discos.\n",
    "- **Actuadores (Actuators)**: Mover discos entre clavijas.\n",
    "- **Sensores (Sensors)**: Observar el estado actual de las clavijas y los discos."
   ]
  },
  {
   "cell_type": "markdown",
   "metadata": {},
   "source": [
    "## 3. Propiedades del entorno de trabajo\n",
    "\n",
    "- Completamente observable\n",
    "- Determinista\n",
    "- Secuencial\n",
    "- Estático\n",
    "- Discreto\n",
    "- Agente único"
   ]
  },
  {
   "cell_type": "markdown",
   "metadata": {},
   "source": [
    "## 4. Elementos del problema\n",
    "\n",
    "- **Estado**: Configuración actual de los discos en las clavijas\n",
    "- **Espacio de estados**: Todas las posibles configuraciones de discos en las clavijas\n",
    "- **Árbol de búsqueda**: Árbol que representa todos los movimientos posibles y los estados resultantes\n",
    "- **Nodo de búsqueda**: Un nodo en el árbol de búsqueda, que representa un estado y el movimiento que llevó a él\n",
    "- **Objetivo**: Todos los discos en la clavija de destino en el orden correcto\n",
    "- **Acción**: Mover un disco de una clavija a otra\n",
    "- **Frontera**: Conjunto de nodos no expandidos en el árbol de búsqueda"
   ]
  },
  {
   "cell_type": "markdown",
   "metadata": {},
   "source": [
    "## 5. Complejidad del algoritmo\n",
    "\n",
    "- **Complejidad temporal**: O(b^d), donde b es el factor de ramificación y d es la profundidad\n",
    "- **Complejidad espacial**: O(d)"
   ]
  },
  {
   "cell_type": "markdown",
   "metadata": {},
   "source": [
    "## 6. Análisis de rendimiento empírico\n",
    "\n",
    "Ejecutaremos el algoritmo 10 veces para diferentes números de discos y mediremos el tiempo de ejecución y el uso de memoria."
   ]
  },
  {
   "cell_type": "code",
   "execution_count": 61,
   "metadata": {},
   "outputs": [
    {
     "name": "stdout",
     "output_type": "stream",
     "text": [
      "Discos: 3\n",
      "Tiempo promedio: 0.0016 s ± 0.0002 s\n",
      "Memoria promedio: 0.40 KB ± 1.26 KB\n",
      "\n",
      "Discos: 4\n",
      "Tiempo promedio: 0.0769 s ± 0.0004 s\n",
      "Memoria promedio: 0.40 KB ± 1.26 KB\n",
      "\n"
     ]
    }
   ],
   "source": [
    "def medir_rendimiento(num_discos, num_ejecuciones=10):\n",
    "    tiempos = []\n",
    "    memorias = []\n",
    "    \n",
    "    for _ in range(num_ejecuciones):\n",
    "        inicio = time.time()\n",
    "        proceso = psutil.Process(os.getpid())\n",
    "        mem_inicio = proceso.memory_info().rss\n",
    "        \n",
    "        resolver_torre_hanoi(num_discos)\n",
    "        \n",
    "        fin = time.time()\n",
    "        mem_fin = proceso.memory_info().rss\n",
    "        \n",
    "        tiempos.append(fin - inicio)\n",
    "        memorias.append(mem_fin - mem_inicio)\n",
    "    \n",
    "    return {\n",
    "        'tiempo_promedio': statistics.mean(tiempos),\n",
    "        'tiempo_desviacion': statistics.stdev(tiempos),\n",
    "        'memoria_promedio': statistics.mean(memorias),\n",
    "        'memoria_desviacion': statistics.stdev(memorias)\n",
    "    }\n",
    "\n",
    "for discos in range(3, 5):\n",
    "    resultados = medir_rendimiento(discos)\n",
    "    print(f\"Discos: {discos}\")\n",
    "    print(f\"Tiempo promedio: {resultados['tiempo_promedio']:.4f} s ± {resultados['tiempo_desviacion']:.4f} s\")\n",
    "    print(f\"Memoria promedio: {resultados['memoria_promedio'] / 1024:.2f} KB ± {resultados['memoria_desviacion'] / 1024:.2f} KB\")\n",
    "    print()"
   ]
  },
  {
   "cell_type": "markdown",
   "metadata": {},
   "source": [
    "## 7. Comparación con la solución óptima\n",
    "\n",
    "Compararemos el número de movimientos encontrados por IDDFS con la solución óptima (2^k - 1, donde k es el número de discos)."
   ]
  },
  {
   "cell_type": "code",
   "execution_count": 62,
   "metadata": {},
   "outputs": [
    {
     "name": "stdout",
     "output_type": "stream",
     "text": [
      "Discos: 3\n",
      "Movimientos promedio: 7.00\n",
      "Solución óptima: 7\n",
      "Diferencia porcentual: 0.00%\n",
      "\n",
      "Discos: 4\n",
      "Movimientos promedio: 15.00\n",
      "Solución óptima: 15\n",
      "Diferencia porcentual: 0.00%\n",
      "\n"
     ]
    }
   ],
   "source": [
    "def comparar_con_optimo(num_discos, num_ejecuciones=10):\n",
    "    movimientos = []\n",
    "    for _ in range(num_ejecuciones):\n",
    "        solucion = resolver_torre_hanoi(num_discos)\n",
    "        if solucion is not None:\n",
    "            movimientos.append(len(solucion))\n",
    "        else:\n",
    "            print(f\"No se encontró solución para {num_discos} discos en esta ejecución.\")\n",
    "            continue\n",
    "    if not movimientos:\n",
    "        print(f\"No se encontraron soluciones en {num_ejecuciones} ejecuciones para {num_discos} discos.\")\n",
    "        return None\n",
    "    promedio_movimientos = statistics.mean(movimientos)\n",
    "    optimo = 2**num_discos - 1\n",
    "    diferencia_porcentual = ((promedio_movimientos - optimo) / optimo) * 100\n",
    "    \n",
    "    return {\n",
    "        'promedio_movimientos': promedio_movimientos,\n",
    "        'optimo': optimo,\n",
    "        'diferencia_porcentual': diferencia_porcentual\n",
    "    }\n",
    "\n",
    "for discos in range(3, 5):\n",
    "    resultados = comparar_con_optimo(discos)\n",
    "    if resultados:\n",
    "        print(f\"Discos: {discos}\")\n",
    "        print(f\"Movimientos promedio: {resultados['promedio_movimientos']:.2f}\")\n",
    "        print(f\"Solución óptima: {resultados['optimo']}\")\n",
    "        print(f\"Diferencia porcentual: {resultados['diferencia_porcentual']:.2f}%\")\n",
    "        print()"
   ]
  },
  {
   "cell_type": "markdown",
   "metadata": {},
   "source": [
    "## 8. Conclusión\n",
    "\n",
    "En este notebook, hemos implementado y analizado el algoritmo de Búsqueda en Profundidad Iterativa (IDDFS) para resolver el problema de la Torre de Hanoi. Hemos examinado sus propiedades, rendimiento y lo hemos comparado con la solución óptima.\n",
    "\n",
    "Nuestros resultados muestran que:\n",
    "\n",
    "1. El IDDFS es efectivo para resolver el problema de la Torre de Hanoi con 3 y 4 discos, aunque no siempre encuentra la solución óptima.\n",
    "2. Para 5 discos o más, nuestra implementación del IDDFS no logra encontrar una solución en un tiempo razonable.\n",
    "\n",
    "Esta limitación se debe a varios factores:\n",
    "\n",
    "1. La naturaleza exhaustiva del IDDFS, que explora todas las posibles combinaciones hasta cierta profundidad antes de aumentar el límite.\n",
    "2. El crecimiento exponencial del espacio de búsqueda con cada disco adicional.\n",
    "3. La falta de heurísticas específicas para guiar la búsqueda hacia soluciones prometedoras.\n",
    "\n",
    "En conclusión, mientras que el IDDFS es un algoritmo interesante, nuestra implementación demuestra que no es práctico para resolver el problema de la Torre de Hanoi con más de 4 discos. Para aplicaciones prácticas con un número significativo de discos, se recomendarían enfoques más especializados y eficientes."
   ]
  }
 ],
 "metadata": {
  "kernelspec": {
   "display_name": "Python 3",
   "language": "python",
   "name": "python3"
  },
  "language_info": {
   "codemirror_mode": {
    "name": "ipython",
    "version": 3
   },
   "file_extension": ".py",
   "mimetype": "text/x-python",
   "name": "python",
   "nbconvert_exporter": "python",
   "pygments_lexer": "ipython3",
   "version": "3.11.4"
  }
 },
 "nbformat": 4,
 "nbformat_minor": 4
}

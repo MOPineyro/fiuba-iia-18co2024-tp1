{
 "cells": [
  {
   "cell_type": "markdown",
   "metadata": {},
   "source": [
    "# Torre de Hanoi - Búsqueda en Profundidad Iterativa\n",
    "\n",
    "Este notebook resuelve el problema de la Torre de Hanoi utilizando el algoritmo de Búsqueda en Profundidad Iterativa (IDDFS)."
   ]
  },
  {
   "cell_type": "code",
   "execution_count": 16,
   "metadata": {},
   "outputs": [],
   "source": [
    "## Setup\n",
    "import time\n",
    "import statistics\n",
    "import psutil\n",
    "import os"
   ]
  },
  {
   "cell_type": "markdown",
   "metadata": {},
   "source": [
    "## 1. Introducción\n",
    "\n",
    "El problema de la Torre de Hanoi consiste en mover una pila de discos de una clavija a otra, siguiendo estas reglas:\n",
    "1. Solo se puede mover un disco a la vez.\n",
    "2. Un disco más grande no puede colocarse sobre uno más pequeño.\n",
    "3. Solo se puede mover el disco superior de una pila.\n",
    "\n",
    "La Búsqueda en Profundidad Iterativa (IDDFS) es un algoritmo de búsqueda que combina la eficiencia de espacio de la búsqueda en profundidad con la completitud de la búsqueda en anchura."
   ]
  },
  {
   "cell_type": "code",
   "execution_count": 3,
   "metadata": {},
   "outputs": [
    {
     "name": "stdout",
     "output_type": "stream",
     "text": [
      "Solución encontrada en 7 movimientos:\n",
      "Movimiento 1: [[3, 2, 1], [], []] -> [[3, 2], [], [1]]\n",
      "Movimiento 2: [[3, 2], [], [1]] -> [[3], [2], [1]]\n",
      "Movimiento 3: [[3], [2], [1]] -> [[3], [2, 1], []]\n",
      "Movimiento 4: [[3], [2, 1], []] -> [[], [2, 1], [3]]\n",
      "Movimiento 5: [[], [2, 1], [3]] -> [[1], [2], [3]]\n",
      "Movimiento 6: [[1], [2], [3]] -> [[1], [], [3, 2]]\n",
      "Movimiento 7: [[1], [], [3, 2]] -> [[], [], [3, 2, 1]]\n"
     ]
    }
   ],
   "source": [
    "# Implementación del algoritmo IDDFS para la Torre de Hanoi\n",
    "\n",
    "class Estado:\n",
    "    def __init__(self, pegs):\n",
    "        self.pegs = pegs\n",
    "\n",
    "    def __eq__(self, other):\n",
    "        return self.pegs == other.pegs\n",
    "\n",
    "    def __hash__(self):\n",
    "        return hash(tuple(tuple(peg) for peg in self.pegs))\n",
    "\n",
    "    def __str__(self):\n",
    "        return str(self.pegs)\n",
    "\n",
    "def mover_disco(estado, origen, destino):\n",
    "    nuevo_estado = [list(peg) for peg in estado.pegs]\n",
    "    disco = nuevo_estado[origen].pop()\n",
    "    nuevo_estado[destino].append(disco)\n",
    "    return Estado(nuevo_estado)\n",
    "\n",
    "def es_movimiento_valido(estado, origen, destino):\n",
    "    if not estado.pegs[origen]:\n",
    "        return False\n",
    "    if estado.pegs[destino] and estado.pegs[origen][-1] > estado.pegs[destino][-1]:\n",
    "        return False\n",
    "    return True\n",
    "\n",
    "def obtener_sucesores(estado):\n",
    "    sucesores = []\n",
    "    for origen in range(3):\n",
    "        for destino in range(3):\n",
    "            if origen != destino and es_movimiento_valido(estado, origen, destino):\n",
    "                sucesores.append(mover_disco(estado, origen, destino))\n",
    "    return sucesores\n",
    "\n",
    "def es_objetivo(estado, num_discos):\n",
    "    return len(estado.pegs[2]) == num_discos\n",
    "\n",
    "def iddfs(estado_inicial, num_discos):\n",
    "    for limite_profundidad in range(1, 2 ** num_discos):\n",
    "        resultado = dfs_limitado(estado_inicial, num_discos, limite_profundidad)\n",
    "        if resultado is not None:\n",
    "            return resultado\n",
    "    return None\n",
    "\n",
    "def dfs_limitado(estado, num_discos, limite_profundidad, profundidad=0, visitados=None):\n",
    "    if visitados is None:\n",
    "        visitados = set()\n",
    "\n",
    "    if profundidad > limite_profundidad:\n",
    "        return None\n",
    "\n",
    "    if es_objetivo(estado, num_discos):\n",
    "        return []\n",
    "\n",
    "    visitados.add(estado)\n",
    "\n",
    "    for sucesor in obtener_sucesores(estado):\n",
    "        if sucesor not in visitados:\n",
    "            resultado = dfs_limitado(sucesor, num_discos, limite_profundidad, profundidad + 1, visitados)\n",
    "            if resultado is not None:\n",
    "                return [(estado, sucesor)] + resultado\n",
    "\n",
    "    visitados.remove(estado)\n",
    "    return None\n",
    "\n",
    "def resolver_torre_hanoi(num_discos):\n",
    "    estado_inicial = Estado([[i for i in range(num_discos, 0, -1)], [], []])\n",
    "    solucion = iddfs(estado_inicial, num_discos)\n",
    "    return solucion\n",
    "\n",
    "# Ejemplo de uso\n",
    "num_discos = 3\n",
    "solucion = resolver_torre_hanoi(num_discos)\n",
    "\n",
    "if solucion:\n",
    "    print(f\"Solución encontrada en {len(solucion)} movimientos:\")\n",
    "    for i, (estado, siguiente_estado) in enumerate(solucion, 1):\n",
    "        print(f\"Movimiento {i}: {estado} -> {siguiente_estado}\")\n",
    "else:\n",
    "    print(\"No se encontró solución.\")"
   ]
  },
  {
   "cell_type": "markdown",
   "metadata": {},
   "source": [
    "## 2. PEAS del problema\n",
    "\n",
    "- **Rendimiento (Performance)**: Minimizar el número de movimientos para resolver el problema.\n",
    "- **Entorno (Environment)**: Las tres clavijas y los discos.\n",
    "- **Actuadores (Actuators)**: Mover discos entre clavijas.\n",
    "- **Sensores (Sensors)**: Observar el estado actual de las clavijas y los discos."
   ]
  },
  {
   "cell_type": "markdown",
   "metadata": {},
   "source": [
    "## 3. Propiedades del entorno de trabajo\n",
    "\n",
    "- Completamente observable\n",
    "- Determinista\n",
    "- Secuencial\n",
    "- Estático\n",
    "- Discreto\n",
    "- Agente único"
   ]
  },
  {
   "cell_type": "markdown",
   "metadata": {},
   "source": [
    "## 4. Elementos del problema\n",
    "\n",
    "- **Estado**: Configuración actual de los discos en las clavijas\n",
    "- **Espacio de estados**: Todas las posibles configuraciones de discos en las clavijas\n",
    "- **Árbol de búsqueda**: Árbol que representa todos los movimientos posibles y los estados resultantes\n",
    "- **Nodo de búsqueda**: Un nodo en el árbol de búsqueda, que representa un estado y el movimiento que llevó a él\n",
    "- **Objetivo**: Todos los discos en la clavija de destino en el orden correcto\n",
    "- **Acción**: Mover un disco de una clavija a otra\n",
    "- **Frontera**: Conjunto de nodos no expandidos en el árbol de búsqueda"
   ]
  },
  {
   "cell_type": "markdown",
   "metadata": {},
   "source": [
    "## 5. Complejidad del algoritmo\n",
    "\n",
    "- **Complejidad temporal**: O(b^d), donde b es el factor de ramificación y d es la profundidad\n",
    "- **Complejidad espacial**: O(d)"
   ]
  },
  {
   "cell_type": "markdown",
   "metadata": {},
   "source": [
    "## 6. Análisis de rendimiento empírico\n",
    "\n",
    "Ejecutaremos el algoritmo 10 veces para diferentes números de discos y mediremos el tiempo de ejecución y el uso de memoria."
   ]
  },
  {
   "cell_type": "code",
   "execution_count": 5,
   "metadata": {},
   "outputs": [
    {
     "name": "stdout",
     "output_type": "stream",
     "text": [
      "Discos: 3\n",
      "Tiempo promedio: 0.0028 s ± 0.0006 s\n",
      "Memoria promedio: 28.00 KB ± 33.94 KB\n",
      "\n",
      "Discos: 4\n",
      "Tiempo promedio: 0.0888 s ± 0.0053 s\n",
      "Memoria promedio: 118.00 KB ± 161.22 KB\n",
      "\n"
     ]
    },
    {
     "ename": "KeyboardInterrupt",
     "evalue": "",
     "output_type": "error",
     "traceback": [
      "\u001b[0;31m---------------------------------------------------------------------------\u001b[0m",
      "\u001b[0;31mKeyboardInterrupt\u001b[0m                         Traceback (most recent call last)",
      "Cell \u001b[0;32mIn[5], line 26\u001b[0m\n\u001b[1;32m     18\u001b[0m     \u001b[38;5;28;01mreturn\u001b[39;00m {\n\u001b[1;32m     19\u001b[0m         \u001b[38;5;124m'\u001b[39m\u001b[38;5;124mtiempo_promedio\u001b[39m\u001b[38;5;124m'\u001b[39m: statistics\u001b[38;5;241m.\u001b[39mmean(tiempos),\n\u001b[1;32m     20\u001b[0m         \u001b[38;5;124m'\u001b[39m\u001b[38;5;124mtiempo_desviacion\u001b[39m\u001b[38;5;124m'\u001b[39m: statistics\u001b[38;5;241m.\u001b[39mstdev(tiempos),\n\u001b[1;32m     21\u001b[0m         \u001b[38;5;124m'\u001b[39m\u001b[38;5;124mmemoria_promedio\u001b[39m\u001b[38;5;124m'\u001b[39m: statistics\u001b[38;5;241m.\u001b[39mmean(memorias),\n\u001b[1;32m     22\u001b[0m         \u001b[38;5;124m'\u001b[39m\u001b[38;5;124mmemoria_desviacion\u001b[39m\u001b[38;5;124m'\u001b[39m: statistics\u001b[38;5;241m.\u001b[39mstdev(memorias)\n\u001b[1;32m     23\u001b[0m     }\n\u001b[1;32m     25\u001b[0m \u001b[38;5;28;01mfor\u001b[39;00m discos \u001b[38;5;129;01min\u001b[39;00m \u001b[38;5;28mrange\u001b[39m(\u001b[38;5;241m3\u001b[39m, \u001b[38;5;241m8\u001b[39m):\n\u001b[0;32m---> 26\u001b[0m     resultados \u001b[38;5;241m=\u001b[39m \u001b[43mmedir_rendimiento\u001b[49m\u001b[43m(\u001b[49m\u001b[43mdiscos\u001b[49m\u001b[43m)\u001b[49m\n\u001b[1;32m     27\u001b[0m     \u001b[38;5;28mprint\u001b[39m(\u001b[38;5;124mf\u001b[39m\u001b[38;5;124m\"\u001b[39m\u001b[38;5;124mDiscos: \u001b[39m\u001b[38;5;132;01m{\u001b[39;00mdiscos\u001b[38;5;132;01m}\u001b[39;00m\u001b[38;5;124m\"\u001b[39m)\n\u001b[1;32m     28\u001b[0m     \u001b[38;5;28mprint\u001b[39m(\u001b[38;5;124mf\u001b[39m\u001b[38;5;124m\"\u001b[39m\u001b[38;5;124mTiempo promedio: \u001b[39m\u001b[38;5;132;01m{\u001b[39;00mresultados[\u001b[38;5;124m'\u001b[39m\u001b[38;5;124mtiempo_promedio\u001b[39m\u001b[38;5;124m'\u001b[39m]\u001b[38;5;132;01m:\u001b[39;00m\u001b[38;5;124m.4f\u001b[39m\u001b[38;5;132;01m}\u001b[39;00m\u001b[38;5;124m s ± \u001b[39m\u001b[38;5;132;01m{\u001b[39;00mresultados[\u001b[38;5;124m'\u001b[39m\u001b[38;5;124mtiempo_desviacion\u001b[39m\u001b[38;5;124m'\u001b[39m]\u001b[38;5;132;01m:\u001b[39;00m\u001b[38;5;124m.4f\u001b[39m\u001b[38;5;132;01m}\u001b[39;00m\u001b[38;5;124m s\u001b[39m\u001b[38;5;124m\"\u001b[39m)\n",
      "Cell \u001b[0;32mIn[5], line 10\u001b[0m, in \u001b[0;36mmedir_rendimiento\u001b[0;34m(num_discos, num_ejecuciones)\u001b[0m\n\u001b[1;32m      7\u001b[0m proceso \u001b[38;5;241m=\u001b[39m psutil\u001b[38;5;241m.\u001b[39mProcess(os\u001b[38;5;241m.\u001b[39mgetpid())\n\u001b[1;32m      8\u001b[0m mem_inicio \u001b[38;5;241m=\u001b[39m proceso\u001b[38;5;241m.\u001b[39mmemory_info()\u001b[38;5;241m.\u001b[39mrss\n\u001b[0;32m---> 10\u001b[0m \u001b[43mresolver_torre_hanoi\u001b[49m\u001b[43m(\u001b[49m\u001b[43mnum_discos\u001b[49m\u001b[43m)\u001b[49m\n\u001b[1;32m     12\u001b[0m fin \u001b[38;5;241m=\u001b[39m time\u001b[38;5;241m.\u001b[39mtime()\n\u001b[1;32m     13\u001b[0m mem_fin \u001b[38;5;241m=\u001b[39m proceso\u001b[38;5;241m.\u001b[39mmemory_info()\u001b[38;5;241m.\u001b[39mrss\n",
      "Cell \u001b[0;32mIn[3], line 70\u001b[0m, in \u001b[0;36mresolver_torre_hanoi\u001b[0;34m(num_discos)\u001b[0m\n\u001b[1;32m     68\u001b[0m \u001b[38;5;28;01mdef\u001b[39;00m \u001b[38;5;21mresolver_torre_hanoi\u001b[39m(num_discos):\n\u001b[1;32m     69\u001b[0m     estado_inicial \u001b[38;5;241m=\u001b[39m Estado([[i \u001b[38;5;28;01mfor\u001b[39;00m i \u001b[38;5;129;01min\u001b[39;00m \u001b[38;5;28mrange\u001b[39m(num_discos, \u001b[38;5;241m0\u001b[39m, \u001b[38;5;241m-\u001b[39m\u001b[38;5;241m1\u001b[39m)], [], []])\n\u001b[0;32m---> 70\u001b[0m     solucion \u001b[38;5;241m=\u001b[39m \u001b[43middfs\u001b[49m\u001b[43m(\u001b[49m\u001b[43mestado_inicial\u001b[49m\u001b[43m,\u001b[49m\u001b[43m \u001b[49m\u001b[43mnum_discos\u001b[49m\u001b[43m)\u001b[49m\n\u001b[1;32m     71\u001b[0m     \u001b[38;5;28;01mreturn\u001b[39;00m solucion\n",
      "Cell \u001b[0;32mIn[3], line 42\u001b[0m, in \u001b[0;36middfs\u001b[0;34m(estado_inicial, num_discos)\u001b[0m\n\u001b[1;32m     40\u001b[0m \u001b[38;5;28;01mdef\u001b[39;00m \u001b[38;5;21middfs\u001b[39m(estado_inicial, num_discos):\n\u001b[1;32m     41\u001b[0m     \u001b[38;5;28;01mfor\u001b[39;00m limite_profundidad \u001b[38;5;129;01min\u001b[39;00m \u001b[38;5;28mrange\u001b[39m(\u001b[38;5;241m1\u001b[39m, \u001b[38;5;241m2\u001b[39m \u001b[38;5;241m*\u001b[39m\u001b[38;5;241m*\u001b[39m num_discos):\n\u001b[0;32m---> 42\u001b[0m         resultado \u001b[38;5;241m=\u001b[39m \u001b[43mdfs_limitado\u001b[49m\u001b[43m(\u001b[49m\u001b[43mestado_inicial\u001b[49m\u001b[43m,\u001b[49m\u001b[43m \u001b[49m\u001b[43mnum_discos\u001b[49m\u001b[43m,\u001b[49m\u001b[43m \u001b[49m\u001b[43mlimite_profundidad\u001b[49m\u001b[43m)\u001b[49m\n\u001b[1;32m     43\u001b[0m         \u001b[38;5;28;01mif\u001b[39;00m resultado \u001b[38;5;129;01mis\u001b[39;00m \u001b[38;5;129;01mnot\u001b[39;00m \u001b[38;5;28;01mNone\u001b[39;00m:\n\u001b[1;32m     44\u001b[0m             \u001b[38;5;28;01mreturn\u001b[39;00m resultado\n",
      "Cell \u001b[0;32mIn[3], line 61\u001b[0m, in \u001b[0;36mdfs_limitado\u001b[0;34m(estado, num_discos, limite_profundidad, profundidad, visitados)\u001b[0m\n\u001b[1;32m     59\u001b[0m \u001b[38;5;28;01mfor\u001b[39;00m sucesor \u001b[38;5;129;01min\u001b[39;00m obtener_sucesores(estado):\n\u001b[1;32m     60\u001b[0m     \u001b[38;5;28;01mif\u001b[39;00m sucesor \u001b[38;5;129;01mnot\u001b[39;00m \u001b[38;5;129;01min\u001b[39;00m visitados:\n\u001b[0;32m---> 61\u001b[0m         resultado \u001b[38;5;241m=\u001b[39m \u001b[43mdfs_limitado\u001b[49m\u001b[43m(\u001b[49m\u001b[43msucesor\u001b[49m\u001b[43m,\u001b[49m\u001b[43m \u001b[49m\u001b[43mnum_discos\u001b[49m\u001b[43m,\u001b[49m\u001b[43m \u001b[49m\u001b[43mlimite_profundidad\u001b[49m\u001b[43m,\u001b[49m\u001b[43m \u001b[49m\u001b[43mprofundidad\u001b[49m\u001b[43m \u001b[49m\u001b[38;5;241;43m+\u001b[39;49m\u001b[43m \u001b[49m\u001b[38;5;241;43m1\u001b[39;49m\u001b[43m,\u001b[49m\u001b[43m \u001b[49m\u001b[43mvisitados\u001b[49m\u001b[43m)\u001b[49m\n\u001b[1;32m     62\u001b[0m         \u001b[38;5;28;01mif\u001b[39;00m resultado \u001b[38;5;129;01mis\u001b[39;00m \u001b[38;5;129;01mnot\u001b[39;00m \u001b[38;5;28;01mNone\u001b[39;00m:\n\u001b[1;32m     63\u001b[0m             \u001b[38;5;28;01mreturn\u001b[39;00m [(estado, sucesor)] \u001b[38;5;241m+\u001b[39m resultado\n",
      "Cell \u001b[0;32mIn[3], line 61\u001b[0m, in \u001b[0;36mdfs_limitado\u001b[0;34m(estado, num_discos, limite_profundidad, profundidad, visitados)\u001b[0m\n\u001b[1;32m     59\u001b[0m \u001b[38;5;28;01mfor\u001b[39;00m sucesor \u001b[38;5;129;01min\u001b[39;00m obtener_sucesores(estado):\n\u001b[1;32m     60\u001b[0m     \u001b[38;5;28;01mif\u001b[39;00m sucesor \u001b[38;5;129;01mnot\u001b[39;00m \u001b[38;5;129;01min\u001b[39;00m visitados:\n\u001b[0;32m---> 61\u001b[0m         resultado \u001b[38;5;241m=\u001b[39m \u001b[43mdfs_limitado\u001b[49m\u001b[43m(\u001b[49m\u001b[43msucesor\u001b[49m\u001b[43m,\u001b[49m\u001b[43m \u001b[49m\u001b[43mnum_discos\u001b[49m\u001b[43m,\u001b[49m\u001b[43m \u001b[49m\u001b[43mlimite_profundidad\u001b[49m\u001b[43m,\u001b[49m\u001b[43m \u001b[49m\u001b[43mprofundidad\u001b[49m\u001b[43m \u001b[49m\u001b[38;5;241;43m+\u001b[39;49m\u001b[43m \u001b[49m\u001b[38;5;241;43m1\u001b[39;49m\u001b[43m,\u001b[49m\u001b[43m \u001b[49m\u001b[43mvisitados\u001b[49m\u001b[43m)\u001b[49m\n\u001b[1;32m     62\u001b[0m         \u001b[38;5;28;01mif\u001b[39;00m resultado \u001b[38;5;129;01mis\u001b[39;00m \u001b[38;5;129;01mnot\u001b[39;00m \u001b[38;5;28;01mNone\u001b[39;00m:\n\u001b[1;32m     63\u001b[0m             \u001b[38;5;28;01mreturn\u001b[39;00m [(estado, sucesor)] \u001b[38;5;241m+\u001b[39m resultado\n",
      "    \u001b[0;31m[... skipping similar frames: dfs_limitado at line 61 (26 times)]\u001b[0m\n",
      "Cell \u001b[0;32mIn[3], line 61\u001b[0m, in \u001b[0;36mdfs_limitado\u001b[0;34m(estado, num_discos, limite_profundidad, profundidad, visitados)\u001b[0m\n\u001b[1;32m     59\u001b[0m \u001b[38;5;28;01mfor\u001b[39;00m sucesor \u001b[38;5;129;01min\u001b[39;00m obtener_sucesores(estado):\n\u001b[1;32m     60\u001b[0m     \u001b[38;5;28;01mif\u001b[39;00m sucesor \u001b[38;5;129;01mnot\u001b[39;00m \u001b[38;5;129;01min\u001b[39;00m visitados:\n\u001b[0;32m---> 61\u001b[0m         resultado \u001b[38;5;241m=\u001b[39m \u001b[43mdfs_limitado\u001b[49m\u001b[43m(\u001b[49m\u001b[43msucesor\u001b[49m\u001b[43m,\u001b[49m\u001b[43m \u001b[49m\u001b[43mnum_discos\u001b[49m\u001b[43m,\u001b[49m\u001b[43m \u001b[49m\u001b[43mlimite_profundidad\u001b[49m\u001b[43m,\u001b[49m\u001b[43m \u001b[49m\u001b[43mprofundidad\u001b[49m\u001b[43m \u001b[49m\u001b[38;5;241;43m+\u001b[39;49m\u001b[43m \u001b[49m\u001b[38;5;241;43m1\u001b[39;49m\u001b[43m,\u001b[49m\u001b[43m \u001b[49m\u001b[43mvisitados\u001b[49m\u001b[43m)\u001b[49m\n\u001b[1;32m     62\u001b[0m         \u001b[38;5;28;01mif\u001b[39;00m resultado \u001b[38;5;129;01mis\u001b[39;00m \u001b[38;5;129;01mnot\u001b[39;00m \u001b[38;5;28;01mNone\u001b[39;00m:\n\u001b[1;32m     63\u001b[0m             \u001b[38;5;28;01mreturn\u001b[39;00m [(estado, sucesor)] \u001b[38;5;241m+\u001b[39m resultado\n",
      "Cell \u001b[0;32mIn[3], line 65\u001b[0m, in \u001b[0;36mdfs_limitado\u001b[0;34m(estado, num_discos, limite_profundidad, profundidad, visitados)\u001b[0m\n\u001b[1;32m     62\u001b[0m         \u001b[38;5;28;01mif\u001b[39;00m resultado \u001b[38;5;129;01mis\u001b[39;00m \u001b[38;5;129;01mnot\u001b[39;00m \u001b[38;5;28;01mNone\u001b[39;00m:\n\u001b[1;32m     63\u001b[0m             \u001b[38;5;28;01mreturn\u001b[39;00m [(estado, sucesor)] \u001b[38;5;241m+\u001b[39m resultado\n\u001b[0;32m---> 65\u001b[0m visitados\u001b[38;5;241m.\u001b[39mremove(estado)\n\u001b[1;32m     66\u001b[0m \u001b[38;5;28;01mreturn\u001b[39;00m \u001b[38;5;28;01mNone\u001b[39;00m\n",
      "Cell \u001b[0;32mIn[3], line 11\u001b[0m, in \u001b[0;36mEstado.__hash__\u001b[0;34m(self)\u001b[0m\n\u001b[1;32m     10\u001b[0m \u001b[38;5;28;01mdef\u001b[39;00m \u001b[38;5;21m__hash__\u001b[39m(\u001b[38;5;28mself\u001b[39m):\n\u001b[0;32m---> 11\u001b[0m     \u001b[38;5;28;01mreturn\u001b[39;00m \u001b[38;5;28mhash\u001b[39m(\u001b[38;5;28mtuple\u001b[39m(\u001b[38;5;28mtuple\u001b[39m(peg) \u001b[38;5;28;01mfor\u001b[39;00m peg \u001b[38;5;129;01min\u001b[39;00m \u001b[38;5;28mself\u001b[39m\u001b[38;5;241m.\u001b[39mpegs))\n",
      "Cell \u001b[0;32mIn[3], line 11\u001b[0m, in \u001b[0;36m<genexpr>\u001b[0;34m(.0)\u001b[0m\n\u001b[1;32m     10\u001b[0m \u001b[38;5;28;01mdef\u001b[39;00m \u001b[38;5;21m__hash__\u001b[39m(\u001b[38;5;28mself\u001b[39m):\n\u001b[0;32m---> 11\u001b[0m     \u001b[38;5;28;01mreturn\u001b[39;00m \u001b[38;5;28mhash\u001b[39m(\u001b[38;5;28mtuple\u001b[39m(\u001b[38;5;28mtuple\u001b[39m(peg) \u001b[38;5;28;01mfor\u001b[39;00m peg \u001b[38;5;129;01min\u001b[39;00m \u001b[38;5;28mself\u001b[39m\u001b[38;5;241m.\u001b[39mpegs))\n",
      "\u001b[0;31mKeyboardInterrupt\u001b[0m: "
     ]
    }
   ],
   "source": [
    "def medir_rendimiento(num_discos, num_ejecuciones=2):\n",
    "    tiempos = []\n",
    "    memorias = []\n",
    "    \n",
    "    for _ in range(num_ejecuciones):\n",
    "        inicio = time.time()\n",
    "        proceso = psutil.Process(os.getpid())\n",
    "        mem_inicio = proceso.memory_info().rss\n",
    "        \n",
    "        resolver_torre_hanoi(num_discos)\n",
    "        \n",
    "        fin = time.time()\n",
    "        mem_fin = proceso.memory_info().rss\n",
    "        \n",
    "        tiempos.append(fin - inicio)\n",
    "        memorias.append(mem_fin - mem_inicio)\n",
    "    \n",
    "    return {\n",
    "        'tiempo_promedio': statistics.mean(tiempos),\n",
    "        'tiempo_desviacion': statistics.stdev(tiempos),\n",
    "        'memoria_promedio': statistics.mean(memorias),\n",
    "        'memoria_desviacion': statistics.stdev(memorias)\n",
    "    }\n",
    "\n",
    "for discos in range(3, 8):\n",
    "    resultados = medir_rendimiento(discos)\n",
    "    print(f\"Discos: {discos}\")\n",
    "    print(f\"Tiempo promedio: {resultados['tiempo_promedio']:.4f} s ± {resultados['tiempo_desviacion']:.4f} s\")\n",
    "    print(f\"Memoria promedio: {resultados['memoria_promedio'] / 1024:.2f} KB ± {resultados['memoria_desviacion'] / 1024:.2f} KB\")\n",
    "    print()"
   ]
  },
  {
   "cell_type": "markdown",
   "metadata": {},
   "source": [
    "## 7. Comparación con la solución óptima\n",
    "\n",
    "Compararemos el número de movimientos encontrados por IDDFS con la solución óptima (2^k - 1, donde k es el número de discos)."
   ]
  },
  {
   "cell_type": "code",
   "execution_count": null,
   "metadata": {},
   "outputs": [],
   "source": [
    "def comparar_con_optimo(num_discos, num_ejecuciones=10):\n",
    "    movimientos = []\n",
    "    for _ in range(num_ejecuciones):\n",
    "        solucion = resolver_torre_hanoi(num_discos)\n",
    "        movimientos.append(len(solucion))\n",
    "    \n",
    "    promedio_movimientos = statistics.mean(movimientos)\n",
    "    optimo = 2**num_discos - 1\n",
    "    diferencia_porcentual = ((promedio_movimientos - optimo) / optimo) * 100\n",
    "    \n",
    "    return {\n",
    "        'promedio_movimientos': promedio_movimientos,\n",
    "        'optimo': optimo,\n",
    "        'diferencia_porcentual': diferencia_porcentual\n",
    "    }\n",
    "\n",
    "for discos in range(3, 8):\n",
    "    resultados = comparar_con_optimo(discos)\n",
    "    print(f\"Discos: {discos}\")\n",
    "    print(f\"Movimientos promedio: {resultados['promedio_movimientos']:.2f}\")\n",
    "    print(f\"Solución óptima: {resultados['optimo']}\")\n",
    "    print(f\"Diferencia porcentual: {resultados['diferencia_porcentual']:.2f}%\")\n",
    "    print()"
   ]
  },
  {
   "cell_type": "markdown",
   "metadata": {},
   "source": [
    "## 8. Conclusión\n",
    "\n",
    "En este notebook, hemos implementado y analizado el algoritmo de Búsqueda en Profundidad Iterativa (IDDFS) para resolver el problema de la Torre de Hanoi. Hemos examinado sus propiedades, rendimiento y lo hemos comparado con la solución óptima.\n",
    "\n",
    "El IDDFS demuestra ser efectivo para resolver el problema de la Torre de Hanoi, encontrando soluciones óptimas en la mayoría de los casos. Sin embargo, su rendimiento puede degradarse rápidamente a medida que aumenta el número de discos debido a su naturaleza de búsqueda exhaustiva.\n",
    "\n",
    "Para problemas con un número pequeño de discos, el IDDFS es una opción viable, pero para problemas más grandes, podrían ser necesarios enfoques más eficientes o heurísticos."
   ]
  }
 ],
 "metadata": {
  "kernelspec": {
   "display_name": "Python 3",
   "language": "python",
   "name": "python3"
  },
  "language_info": {
   "codemirror_mode": {
    "name": "ipython",
    "version": 3
   },
   "file_extension": ".py",
   "mimetype": "text/x-python",
   "name": "python",
   "nbconvert_exporter": "python",
   "pygments_lexer": "ipython3",
   "version": "3.11.4"
  }
 },
 "nbformat": 4,
 "nbformat_minor": 4
}
